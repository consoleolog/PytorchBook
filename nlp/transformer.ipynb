{
 "cells": [
  {
   "cell_type": "code",
   "execution_count": null,
   "id": "initial_id",
   "metadata": {
    "collapsed": true
   },
   "outputs": [],
   "source": [
    "import torch.nn as nn\n",
    "\n",
    "class Transformer(nn.Module):\n",
    "    def __init__(self, encoder, decoder):\n",
    "        super(Transformer, self).__init__()\n",
    "        self.encoder = encoder\n",
    "        self.decoder = decoder\n",
    "\n",
    "    def encode(self, x):\n",
    "        out = self.encoder(x)\n",
    "        return out\n",
    "\n",
    "    def decode(self, z, c):\n",
    "        out = self.decoder(z, c)\n",
    "        return out\n",
    "\n",
    "    def forward(self, x, z):\n",
    "        a = self.encode(x)\n",
    "        out = self.decode(z, a)\n",
    "        return out\n"
   ]
  },
  {
   "metadata": {
    "ExecuteTime": {
     "end_time": "2025-03-19T04:06:44.517935Z",
     "start_time": "2025-03-19T04:06:42.107282Z"
    }
   },
   "cell_type": "code",
   "source": [
    "import torch.nn as nn\n",
    "import copy\n",
    "\n",
    "class EncoderBlock(nn.Module):\n",
    "    def __init__(self, self_attention, position_ff):\n",
    "        super(EncoderBlock, self).__init__()\n",
    "        self.self_attention = self_attention\n",
    "        self.position_ff = position_ff\n",
    "\n",
    "    def forward(self, x):\n",
    "        out = x\n",
    "        out = self.self_attention(out)\n",
    "        out = self.position_ff(out)\n",
    "        return out\n",
    "\n",
    "class Encoder(nn.Module):\n",
    "    def __init__(self, encoder_block, n_layer):\n",
    "        super(Encoder, self).__init__()\n",
    "        self.layers = []\n",
    "        for layer in range(n_layer):\n",
    "            self.layers.append(copy.deepcopy(encoder_block))\n",
    "\n",
    "    def forward(self, x):\n",
    "        out = x\n",
    "        for layer in self.layers:\n",
    "            out = layer(out)\n",
    "        return out"
   ],
   "id": "cf24028bda32ea00",
   "outputs": [],
   "execution_count": 1
  },
  {
   "metadata": {},
   "cell_type": "code",
   "outputs": [],
   "execution_count": null,
   "source": [
    "import torch\n",
    "\n",
    "def calculate_attention(query, key, value, mask):\n",
    "    d_k = query.shape[-1]\n",
    "    attention_score = torch.matmul(query, key.transpose(-2, -1))"
   ],
   "id": "532c08b5ad54177a"
  }
 ],
 "metadata": {
  "kernelspec": {
   "display_name": "Python 3",
   "language": "python",
   "name": "python3"
  },
  "language_info": {
   "codemirror_mode": {
    "name": "ipython",
    "version": 2
   },
   "file_extension": ".py",
   "mimetype": "text/x-python",
   "name": "python",
   "nbconvert_exporter": "python",
   "pygments_lexer": "ipython2",
   "version": "2.7.6"
  }
 },
 "nbformat": 4,
 "nbformat_minor": 5
}
