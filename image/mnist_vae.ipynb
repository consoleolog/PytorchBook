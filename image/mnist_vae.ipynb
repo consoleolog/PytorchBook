{
 "cells": [
  {
   "cell_type": "code",
   "id": "initial_id",
   "metadata": {
    "collapsed": true,
    "ExecuteTime": {
     "end_time": "2025-03-19T06:14:00.230185Z",
     "start_time": "2025-03-19T06:13:57.647382Z"
    }
   },
   "source": [
    "\n",
    "import torch\n",
    "import torch.nn as nn\n",
    "from torch.utils.data import DataLoader\n",
    "\n",
    "device = torch.device(\"cuda\" if torch.cuda.is_available() else \"cpu\")\n",
    "print(f\"device = {device}\")"
   ],
   "outputs": [
    {
     "name": "stdout",
     "output_type": "stream",
     "text": [
      "device = cuda\n"
     ]
    }
   ],
   "execution_count": 1
  },
  {
   "metadata": {
    "ExecuteTime": {
     "end_time": "2025-03-19T06:14:14.767401Z",
     "start_time": "2025-03-19T06:14:00.422894Z"
    }
   },
   "cell_type": "code",
   "source": [
    "\n",
    "import torchvision\n",
    "data = torchvision.datasets.MNIST(root=\"./\", download=True)\n",
    "train_data = data.data\n",
    "dl = DataLoader(train_data, batch_size=192)\n",
    "print(f\"data.shape = {list(train_data.shape)}\")\n",
    "print(f\"batch size = {train_data.shape[0]}\")\n",
    "print(f\"data shape = {list(train_data.shape[1:])} \")"
   ],
   "id": "71085d34d4c4c676",
   "outputs": [
    {
     "name": "stderr",
     "output_type": "stream",
     "text": [
      "/home/wsl-user/miniconda3/envs/torch-2.2.0-gpu/lib/python3.10/site-packages/tqdm/auto.py:21: TqdmWarning: IProgress not found. Please update jupyter and ipywidgets. See https://ipywidgets.readthedocs.io/en/stable/user_install.html\n",
      "  from .autonotebook import tqdm as notebook_tqdm\n"
     ]
    },
    {
     "name": "stdout",
     "output_type": "stream",
     "text": [
      "Downloading http://yann.lecun.com/exdb/mnist/train-images-idx3-ubyte.gz\n",
      "Failed to download (trying next):\n",
      "HTTP Error 404: Not Found\n",
      "\n",
      "Downloading https://ossci-datasets.s3.amazonaws.com/mnist/train-images-idx3-ubyte.gz\n",
      "Downloading https://ossci-datasets.s3.amazonaws.com/mnist/train-images-idx3-ubyte.gz to ./MNIST/raw/train-images-idx3-ubyte.gz\n"
     ]
    },
    {
     "name": "stderr",
     "output_type": "stream",
     "text": [
      "100%|██████████| 9912422/9912422 [00:02<00:00, 4306952.61it/s]\n"
     ]
    },
    {
     "name": "stdout",
     "output_type": "stream",
     "text": [
      "Extracting ./MNIST/raw/train-images-idx3-ubyte.gz to ./MNIST/raw\n",
      "\n",
      "Downloading http://yann.lecun.com/exdb/mnist/train-labels-idx1-ubyte.gz\n",
      "Failed to download (trying next):\n",
      "HTTP Error 404: Not Found\n",
      "\n",
      "Downloading https://ossci-datasets.s3.amazonaws.com/mnist/train-labels-idx1-ubyte.gz\n",
      "Downloading https://ossci-datasets.s3.amazonaws.com/mnist/train-labels-idx1-ubyte.gz to ./MNIST/raw/train-labels-idx1-ubyte.gz\n"
     ]
    },
    {
     "name": "stderr",
     "output_type": "stream",
     "text": [
      "100%|██████████| 28881/28881 [00:00<00:00, 149924.87it/s]\n"
     ]
    },
    {
     "name": "stdout",
     "output_type": "stream",
     "text": [
      "Extracting ./MNIST/raw/train-labels-idx1-ubyte.gz to ./MNIST/raw\n",
      "\n",
      "Downloading http://yann.lecun.com/exdb/mnist/t10k-images-idx3-ubyte.gz\n",
      "Failed to download (trying next):\n",
      "HTTP Error 404: Not Found\n",
      "\n",
      "Downloading https://ossci-datasets.s3.amazonaws.com/mnist/t10k-images-idx3-ubyte.gz\n",
      "Downloading https://ossci-datasets.s3.amazonaws.com/mnist/t10k-images-idx3-ubyte.gz to ./MNIST/raw/t10k-images-idx3-ubyte.gz\n"
     ]
    },
    {
     "name": "stderr",
     "output_type": "stream",
     "text": [
      "100%|██████████| 1648877/1648877 [00:01<00:00, 1358212.70it/s]\n"
     ]
    },
    {
     "name": "stdout",
     "output_type": "stream",
     "text": [
      "Extracting ./MNIST/raw/t10k-images-idx3-ubyte.gz to ./MNIST/raw\n",
      "\n",
      "Downloading http://yann.lecun.com/exdb/mnist/t10k-labels-idx1-ubyte.gz\n",
      "Failed to download (trying next):\n",
      "HTTP Error 404: Not Found\n",
      "\n",
      "Downloading https://ossci-datasets.s3.amazonaws.com/mnist/t10k-labels-idx1-ubyte.gz\n",
      "Downloading https://ossci-datasets.s3.amazonaws.com/mnist/t10k-labels-idx1-ubyte.gz to ./MNIST/raw/t10k-labels-idx1-ubyte.gz\n"
     ]
    },
    {
     "name": "stderr",
     "output_type": "stream",
     "text": [
      "100%|██████████| 4542/4542 [00:00<00:00, 2200084.16it/s]\n"
     ]
    },
    {
     "name": "stdout",
     "output_type": "stream",
     "text": [
      "Extracting ./MNIST/raw/t10k-labels-idx1-ubyte.gz to ./MNIST/raw\n",
      "\n",
      "data.shape = [60000, 28, 28]\n",
      "batch size = 60000\n",
      "data shape = [28, 28] \n"
     ]
    }
   ],
   "execution_count": 2
  },
  {
   "metadata": {
    "ExecuteTime": {
     "end_time": "2025-03-19T06:14:15.793268Z",
     "start_time": "2025-03-19T06:14:14.776018Z"
    }
   },
   "cell_type": "code",
   "source": [
    "h, z_size = 1024, 2\n",
    "encoder = nn.Sequential(\n",
    "    nn.Linear(28*28, h),\n",
    "    nn.ReLU(),\n",
    "    nn.Linear(h, h),\n",
    "    nn.ReLU(),\n",
    "    nn.Linear(h, z_size*2)\n",
    ")\n",
    "decoder = nn.Sequential(\n",
    "    nn.Linear(z_size, h),\n",
    "    nn.ReLU(),\n",
    "    nn.Linear(h, h),\n",
    "    nn.ReLU(),\n",
    "    nn.Linear(h, 28*28),\n",
    "    nn.Sigmoid()\n",
    ")\n",
    "model = nn.Sequential(encoder, decoder).to(device)"
   ],
   "id": "48f013c0963c4ff4",
   "outputs": [],
   "execution_count": 3
  },
  {
   "metadata": {
    "ExecuteTime": {
     "end_time": "2025-03-19T06:14:15.813129Z",
     "start_time": "2025-03-19T06:14:15.807998Z"
    }
   },
   "cell_type": "code",
   "source": [
    "opt = torch.optim.Adam(model.parameters(), lr=0.001, betas=(0.9, 0.999))\n",
    "def vae_loss(x, x_hat, mean, logvar):\n",
    "    recon_loss = torch.nn.functional.binary_cross_entropy(x_hat, x)\n",
    "\n",
    "    var = torch.exp(logvar)\n",
    "    kl_loss = 0.5 * torch.mean(mean**2 + var - logvar - 1)\n",
    "    return recon_loss, kl_loss"
   ],
   "id": "be45d718ad3fa64f",
   "outputs": [],
   "execution_count": 4
  },
  {
   "metadata": {
    "ExecuteTime": {
     "end_time": "2025-03-19T06:16:16.976665Z",
     "start_time": "2025-03-19T06:14:15.876834Z"
    }
   },
   "cell_type": "code",
   "source": [
    "mode = \"VAE\" # AE / z0AE / VAE\n",
    "\n",
    "for e in range(1, 20+1):\n",
    "    for x in dl:\n",
    "        opt.zero_grad()\n",
    "        x = x.to(device=device, dtype=torch.float) / 255\n",
    "        x = x.view(x.shape[0], -1)\n",
    "        z = encoder(x)\n",
    "        z1, z2 = z[:, :z.shape[1]//2], z[:, z.shape[1]//2:]\n",
    "        if mode == \"VAE\":\n",
    "            sig = torch.exp(0.5 * z2)\n",
    "            z = z1 + sig*torch.randn_like(z1, device=device)\n",
    "        if mode == \"z0AE\" or \"AE\":\n",
    "            z = z1\n",
    "        x_hat = decoder(z)\n",
    "\n",
    "        if mode == \"VAE\":\n",
    "            rl, kl = vae_loss(x, x_hat, z1, z2)\n",
    "            loss = rl + kl\n",
    "        if mode == \"z0AE\":\n",
    "            loss = rl + z1.abs().mean()\n",
    "        if mode == \"AE\":\n",
    "            loss = rl\n",
    "        loss.backward()\n",
    "        opt.step()\n",
    "        print(f\"\\rEpoch {e}: loss = {loss.item():.3f} = {rl.item():.3f} + {kl.item():.3f}\", end=\"\")\n",
    "    print()"
   ],
   "id": "e49a35c27f3d919e",
   "outputs": [
    {
     "name": "stdout",
     "output_type": "stream",
     "text": [
      "Epoch 1: loss = 0.248 = 0.247 + 0.000\n",
      "Epoch 2: loss = 0.233 = 0.232 + 0.001\n",
      "Epoch 3: loss = 0.221 = 0.219 + 0.001\n",
      "Epoch 4: loss = 0.213 = 0.212 + 0.001\n",
      "Epoch 5: loss = 0.206 = 0.204 + 0.001\n",
      "Epoch 6: loss = 0.199 = 0.197 + 0.001\n",
      "Epoch 7: loss = 0.196 = 0.194 + 0.001\n",
      "Epoch 8: loss = 0.194 = 0.193 + 0.001\n",
      "Epoch 9: loss = 0.190 = 0.189 + 0.001\n",
      "Epoch 10: loss = 0.190 = 0.189 + 0.001\n",
      "Epoch 11: loss = 0.187 = 0.186 + 0.001\n",
      "Epoch 12: loss = 0.187 = 0.185 + 0.001\n",
      "Epoch 13: loss = 0.186 = 0.184 + 0.001\n",
      "Epoch 14: loss = 0.183 = 0.182 + 0.001\n",
      "Epoch 15: loss = 0.183 = 0.182 + 0.001\n",
      "Epoch 16: loss = 0.183 = 0.182 + 0.001\n",
      "Epoch 17: loss = 0.180 = 0.179 + 0.001\n",
      "Epoch 18: loss = 0.180 = 0.178 + 0.001\n",
      "Epoch 19: loss = 0.179 = 0.177 + 0.001\n",
      "Epoch 20: loss = 0.179 = 0.178 + 0.001\n"
     ]
    }
   ],
   "execution_count": 5
  },
  {
   "metadata": {
    "ExecuteTime": {
     "end_time": "2025-03-19T06:16:17.914197Z",
     "start_time": "2025-03-19T06:16:17.368651Z"
    }
   },
   "cell_type": "code",
   "source": [
    "import matplotlib.pyplot as plt\n",
    "print(z1.max(), z1.min(), z1.std())\n",
    "plt.imshow(decoder(torch.randn(1, z_size).cuda()).view(28, 28).detach().cpu().numpy())"
   ],
   "id": "21fa5adba3442bb9",
   "outputs": [
    {
     "name": "stdout",
     "output_type": "stream",
     "text": [
      "tensor(0.1293, device='cuda:0', grad_fn=<MaxBackward1>) tensor(-0.0583, device='cuda:0', grad_fn=<MinBackward1>) tensor(0.0414, device='cuda:0', grad_fn=<StdBackward0>)\n"
     ]
    },
    {
     "data": {
      "text/plain": [
       "<matplotlib.image.AxesImage at 0x7fde11a8ceb0>"
      ]
     },
     "execution_count": 6,
     "metadata": {},
     "output_type": "execute_result"
    },
    {
     "data": {
      "text/plain": [
       "<Figure size 640x480 with 1 Axes>"
      ],
      "image/png": "[encoded data removed]"
     },
     "metadata": {},
     "output_type": "display_data"
    }
   ],
   "execution_count": 6
  }
 ],
 "metadata": {
  "kernelspec": {
   "display_name": "Python 3",
   "language": "python",
   "name": "python3"
  },
  "language_info": {
   "codemirror_mode": {
    "name": "ipython",
    "version": 2
   },
   "file_extension": ".py",
   "mimetype": "text/x-python",
   "name": "python",
   "nbconvert_exporter": "python",
   "pygments_lexer": "ipython2",
   "version": "2.7.6"
  }
 },
 "nbformat": 4,
 "nbformat_minor": 5
}
